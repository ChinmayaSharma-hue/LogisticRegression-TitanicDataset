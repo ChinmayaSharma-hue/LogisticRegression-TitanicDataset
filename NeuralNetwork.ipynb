{
  "cells": [
    {
      "cell_type": "markdown",
      "metadata": {
        "id": "97upigotLdg6"
      },
      "source": [
        "## Importing the Libraries"
      ]
    },
    {
      "cell_type": "code",
      "execution_count": 2,
      "metadata": {
        "id": "G86PbWr6cC_D"
      },
      "outputs": [],
      "source": [
        "import numpy as np\n",
        "import pandas as pd\n",
        "import cv2\n",
        "import matplotlib.pyplot as plt\n",
        "import os\n",
        "from tqdm import tqdm\n",
        "import tensorflow as tf"
      ]
    },
    {
      "cell_type": "markdown",
      "metadata": {
        "id": "bMZpvBWecC_K"
      },
      "source": [
        "## Loading and Preprocessing the data"
      ]
    },
    {
      "cell_type": "code",
      "execution_count": 3,
      "metadata": {
        "colab": {
          "base_uri": "https://localhost:8080/"
        },
        "id": "fSW-17pxcC_K",
        "outputId": "58ce23ab-00f2-40c7-f57a-5b625806212d"
      },
      "outputs": [
        {
          "output_type": "stream",
          "name": "stdout",
          "text": [
            "Drive already mounted at /content/drive; to attempt to forcibly remount, call drive.mount(\"/content/drive\", force_remount=True).\n"
          ]
        }
      ],
      "source": [
        "from google.colab import drive\n",
        "drive.mount('/content/drive')"
      ]
    },
    {
      "cell_type": "code",
      "execution_count": 4,
      "metadata": {
        "id": "iet6-60fcC_K"
      },
      "outputs": [],
      "source": [
        "ZERO = '/content/drive/MyDrive/Colab Notebooks/NeuralNetworksFromScratch/Image files/trainingSet/trainingSet/0'\n",
        "ONE =  '/content/drive/MyDrive/Colab Notebooks/NeuralNetworksFromScratch/Image files/trainingSet/trainingSet/1'\n",
        "TWO = '/content/drive/MyDrive/Colab Notebooks/NeuralNetworksFromScratch/Image files/trainingSet/trainingSet/2'\n",
        "THREE = '/content/drive/MyDrive/Colab Notebooks/NeuralNetworksFromScratch/Image files/trainingSet/trainingSet/3'\n",
        "FOUR = '/content/drive/MyDrive/Colab Notebooks/NeuralNetworksFromScratch/Image files/trainingSet/trainingSet/4'\n",
        "FIVE = '/content/drive/MyDrive/Colab Notebooks/NeuralNetworksFromScratch/Image files/trainingSet/trainingSet/5'\n",
        "SIX = '/content/drive/MyDrive/Colab Notebooks/NeuralNetworksFromScratch/Image files/trainingSet/trainingSet/6'\n",
        "SEVEN = '/content/drive/MyDrive/Colab Notebooks/NeuralNetworksFromScratch/Image files/trainingSet/trainingSet/7'\n",
        "EIGHT = '/content/drive/MyDrive/Colab Notebooks/NeuralNetworksFromScratch/Image files/trainingSet/trainingSet/8'\n",
        "NINE = '/content/drive/MyDrive/Colab Notebooks/NeuralNetworksFromScratch/Image files/trainingSet/trainingSet/9'"
      ]
    },
    {
      "cell_type": "code",
      "execution_count": 5,
      "metadata": {
        "id": "2J-yOa3tcC_K"
      },
      "outputs": [],
      "source": [
        "training_data = []\n",
        "validation_data = []\n",
        "testing_data = []\n",
        "number_of_zeros = 0\n",
        "paths_dict = {ZERO: 0, ONE: 1, TWO: 2, THREE: 3, FOUR: 4, FIVE: 5, SIX: 6, SEVEN: 7, EIGHT: 8, NINE: 9}\n",
        "paths_list = [ZERO, ONE, TWO, THREE, FOUR, FIVE, SIX, SEVEN, EIGHT, NINE]\n",
        "dataset_loaded = False"
      ]
    },
    {
      "cell_type": "code",
      "execution_count": 6,
      "metadata": {
        "colab": {
          "base_uri": "https://localhost:8080/"
        },
        "id": "81LEI81wcC_L",
        "outputId": "b10c69f5-7d59-45ae-b471-2f32bc71d380"
      },
      "outputs": [
        {
          "output_type": "stream",
          "name": "stderr",
          "text": [
            " 39%|███▊      | 1600/4132 [00:10<00:17, 147.37it/s]\n",
            " 34%|███▍      | 1600/4684 [00:08<00:16, 184.33it/s]\n",
            " 38%|███▊      | 1600/4177 [00:08<00:13, 184.62it/s]\n",
            " 37%|███▋      | 1600/4351 [00:08<00:14, 188.18it/s]\n",
            " 39%|███▉      | 1600/4072 [00:08<00:12, 190.63it/s]\n",
            " 42%|████▏     | 1600/3795 [00:08<00:11, 194.93it/s]\n",
            " 39%|███▊      | 1600/4137 [00:08<00:13, 190.49it/s]\n",
            " 36%|███▋      | 1600/4401 [01:35<02:47, 16.71it/s] \n",
            " 39%|███▉      | 1600/4063 [01:19<02:02, 20.09it/s] \n",
            " 38%|███▊      | 1600/4188 [01:25<02:18, 18.75it/s] \n"
          ]
        }
      ],
      "source": [
        "if dataset_loaded is False:\n",
        "  for folder in paths_list:\n",
        "    image_count = 0\n",
        "    for image_path in tqdm(os.listdir(folder)):\n",
        "      if image_count < 1000:\n",
        "        if \"jpg\" in image_path:\n",
        "          path = os.path.join(folder, image_path)\n",
        "          image = cv2.imread(path, cv2.IMREAD_GRAYSCALE)\n",
        "          if image is not None:\n",
        "            flattened_input = image.reshape(-1)\n",
        "            flattened_input = flattened_input/255\n",
        "            training_data.append([flattened_input, np.eye(10)[paths_dict[folder]]])\n",
        "            image_count += 1\n",
        "      elif (image_count >= 1000) and (image_count < 1200):\n",
        "        if \"jpg\" in image_path:\n",
        "          path = os.path.join(folder, image_path)\n",
        "          image = cv2.imread(path, cv2.IMREAD_GRAYSCALE)\n",
        "          if image is not None:\n",
        "            flattened_input = image.reshape(-1)\n",
        "            flattened_input = flattened_input/255\n",
        "            validation_data.append([flattened_input, np.eye(10)[paths_dict[folder]]])\n",
        "            image_count += 1\n",
        "      elif (image_count >= 1200) and (image_count < 1600):\n",
        "        if \"jpg\" in image_path:\n",
        "          path = os.path.join(folder, image_path)\n",
        "          image = cv2.imread(path, cv2.IMREAD_GRAYSCALE)\n",
        "          if image is not None:\n",
        "            flattened_input = image.reshape(-1)\n",
        "            flattened_input = flattened_input/255\n",
        "            testing_data.append([flattened_input, np.eye(10)[paths_dict[folder]]])\n",
        "            image_count += 1\n",
        "      else:\n",
        "        break\n",
        "dataset_loaded = True"
      ]
    },
    {
      "cell_type": "code",
      "execution_count": 7,
      "metadata": {
        "id": "LirOsatJcC_L"
      },
      "outputs": [],
      "source": [
        "np.random.shuffle(training_data)\n",
        "np.random.shuffle(validation_data)\n",
        "np.random.shuffle(testing_data)"
      ]
    },
    {
      "cell_type": "code",
      "execution_count": 8,
      "metadata": {
        "colab": {
          "base_uri": "https://localhost:8080/"
        },
        "id": "-r1VuWAjcC_L",
        "outputId": "07156803-11d5-4fe4-a385-d8f111869224"
      },
      "outputs": [
        {
          "output_type": "stream",
          "name": "stdout",
          "text": [
            "10000\n",
            "2000\n",
            "4000\n"
          ]
        }
      ],
      "source": [
        "print(len(training_data))\n",
        "print(len(validation_data))\n",
        "print(len(testing_data))"
      ]
    },
    {
      "cell_type": "markdown",
      "source": [
        "### Defining a function to divide the dataset into batches"
      ],
      "metadata": {
        "id": "iHy1oVBW9JF2"
      }
    },
    {
      "cell_type": "code",
      "execution_count": 9,
      "metadata": {
        "id": "J6pNVmUZcC_L"
      },
      "outputs": [],
      "source": [
        "def mini_batch(dataset, batch_size):\n",
        "  batched_data = []\n",
        "  dataset_size = int(len(dataset)/batch_size)*batch_size\n",
        "  dataset = dataset[:dataset_size]\n",
        "  for i in range(0, dataset_size, batch_size):\n",
        "    batched_data.append(dataset[i:i+batch_size])\n",
        "  return batched_data"
      ]
    },
    {
      "cell_type": "markdown",
      "source": [
        "### Making mini-batches out of the train set and separating the features and labels"
      ],
      "metadata": {
        "id": "baxA-Ay19NQD"
      }
    },
    {
      "cell_type": "code",
      "execution_count": 10,
      "metadata": {
        "id": "RwK5NxZdcC_L"
      },
      "outputs": [],
      "source": [
        "batched_training_data = mini_batch(training_data, 64)"
      ]
    },
    {
      "cell_type": "code",
      "execution_count": 12,
      "metadata": {
        "id": "bL8F5QJ5cC_L"
      },
      "outputs": [],
      "source": [
        "batched_features = []\n",
        "batched_labels = []\n",
        "\n",
        "for i in range(len(batched_training_data)):\n",
        "  features_list = []\n",
        "  labels_list = []\n",
        "  for j in range(64):\n",
        "    features_list.append(batched_training_data[i][j][0])\n",
        "    labels_list.append(batched_training_data[i][j][1])\n",
        "  batched_features.append(np.array(features_list))\n",
        "  batched_labels.append(np.array(labels_list))\n",
        "\n",
        "batched_features = np.array(batched_features)\n",
        "batched_labels = np.array(batched_labels)"
      ]
    },
    {
      "cell_type": "markdown",
      "source": [
        "### Making mini-batches out of the validation set and separating the features and labels"
      ],
      "metadata": {
        "id": "GVJut1Tk9YGe"
      }
    },
    {
      "cell_type": "code",
      "execution_count": 16,
      "metadata": {
        "colab": {
          "base_uri": "https://localhost:8080/"
        },
        "id": "mhE1nD59JbiZ",
        "outputId": "21d9fd40-7bb7-4cd4-9196-4db9ce3ad63c"
      },
      "outputs": [
        {
          "output_type": "execute_result",
          "data": {
            "text/plain": [
              "31"
            ]
          },
          "metadata": {},
          "execution_count": 16
        }
      ],
      "source": [
        "batched_validation_data = mini_batch(validation_data, 64)"
      ]
    },
    {
      "cell_type": "code",
      "execution_count": 20,
      "metadata": {
        "id": "bi-BBUENJXJY"
      },
      "outputs": [],
      "source": [
        "validation_features = []\n",
        "validation_labels = []\n",
        "\n",
        "for i in range(len(batched_validation_data)):\n",
        "  features_list = []\n",
        "  labels_list = []\n",
        "  for j in range(64):\n",
        "    features_list.append(batched_validation_data[i][j][0])\n",
        "    labels_list.append(batched_validation_data[i][j][1])\n",
        "  validation_features.append(np.array(features_list))\n",
        "  validation_labels.append(np.array(labels_list))\n",
        "\n",
        "batched_validation_features = np.array(validation_features)\n",
        "batched_validation_labels = np.array(validation_labels)"
      ]
    },
    {
      "cell_type": "markdown",
      "source": [
        "### Making mini-batches out of the test set and separating the features and labels"
      ],
      "metadata": {
        "id": "gizHuANj9grB"
      }
    },
    {
      "cell_type": "code",
      "source": [
        "batched_testing_data = mini_batch(testing_data, 64)"
      ],
      "metadata": {
        "colab": {
          "base_uri": "https://localhost:8080/"
        },
        "id": "U7VfMvHFJ7cN",
        "outputId": "c986ea86-79d9-4712-83b0-2af73238336b"
      },
      "execution_count": 25,
      "outputs": [
        {
          "output_type": "execute_result",
          "data": {
            "text/plain": [
              "62"
            ]
          },
          "metadata": {},
          "execution_count": 25
        }
      ]
    },
    {
      "cell_type": "code",
      "execution_count": 30,
      "metadata": {
        "id": "wK6ppvMDJ1C5"
      },
      "outputs": [],
      "source": [
        "testing_features = []\n",
        "testing_labels = []\n",
        "\n",
        "for i in range(len(batched_testing_data)):\n",
        "  features_list = []\n",
        "  labels_list = []\n",
        "  for j in range(64):\n",
        "    features_list.append(batched_testing_data[i][j][0])\n",
        "    labels_list.append(batched_testing_data[i][j][1])\n",
        "  testing_features.append(np.array(features_list))\n",
        "  testing_labels.append(np.array(labels_list))\n",
        "\n",
        "batched_testing_features = np.array(testing_features)\n",
        "batched_testing_labels = np.array(testing_labels)"
      ]
    },
    {
      "cell_type": "markdown",
      "metadata": {
        "id": "DY2L-CkrOau7"
      },
      "source": [
        "## Model Architecture"
      ]
    },
    {
      "cell_type": "markdown",
      "source": [
        "### Defining the parameters of the model"
      ],
      "metadata": {
        "id": "czZoNkaP8aba"
      }
    },
    {
      "cell_type": "code",
      "execution_count": 325,
      "metadata": {
        "id": "vVoeJNu8NtXd"
      },
      "outputs": [],
      "source": [
        "weights = [np.random.normal(0, 0.1, size=(784, 128)), np.random.normal(0, 0.1, size=(128, 10))]\n",
        "bias = [np.zeros([64, 128]), np.zeros([64, 10])]"
      ]
    },
    {
      "cell_type": "markdown",
      "source": [
        "### The Activation Functions "
      ],
      "metadata": {
        "id": "otSCKes38c3E"
      }
    },
    {
      "cell_type": "code",
      "execution_count": 326,
      "metadata": {
        "id": "cHaf1TpRmcH_"
      },
      "outputs": [],
      "source": [
        "def relu(matrix):\n",
        "  return np.maximum(matrix, 0)\n",
        "\n",
        "def reluDerivative(x):\n",
        "  y = (x > 0) * 1\n",
        "  return y"
      ]
    },
    {
      "cell_type": "code",
      "execution_count": 327,
      "metadata": {
        "id": "3FMTPW6ORcs5"
      },
      "outputs": [],
      "source": [
        "def softmax(matrix):\n",
        "  softmax_matrix = np.zeros(matrix.shape)\n",
        "  for row_index in range(len(matrix)):\n",
        "    softmax_matrix[row_index] = (np.exp(matrix[row_index])/sum(np.exp(matrix[row_index])))\n",
        "    for element in np.exp(matrix[row_index]):\n",
        "      if element == np.inf:\n",
        "        print(matrix[row_index])\n",
        "  return softmax_matrix "
      ]
    },
    {
      "cell_type": "markdown",
      "source": [
        "### The Cost Function"
      ],
      "metadata": {
        "id": "J_Hj8Koa8wKT"
      }
    },
    {
      "cell_type": "code",
      "execution_count": 328,
      "metadata": {
        "id": "nve3W2PuTnCT"
      },
      "outputs": [],
      "source": [
        "def cost(output, labels):\n",
        "  loss_matrix = -np.mean(np.multiply(labels, np.log(output)), axis=1)\n",
        "  loss = (1/output.shape[0])*sum(loss_matrix)\n",
        "  return loss "
      ]
    },
    {
      "cell_type": "markdown",
      "source": [
        "### Using the parameters of the model to calculate the output through feedforward"
      ],
      "metadata": {
        "id": "s3jHGJbI8rG8"
      }
    },
    {
      "cell_type": "code",
      "execution_count": 329,
      "metadata": {
        "id": "2ubVtAsrnQFT"
      },
      "outputs": [],
      "source": [
        "def feedforward(input_matrix, weight_matrix, bias_matrix, activation_function):\n",
        "  z = np.matmul(input_matrix, weight_matrix) + bias_matrix\n",
        "  if activation_function == 'relu':\n",
        "    a = relu(z)\n",
        "    return a, z\n",
        "  elif activation_function == 'softmax':\n",
        "    a = softmax(z)\n",
        "    return a, z\n",
        "  else:\n",
        "    print(\"Invalid Activation Function.\")"
      ]
    },
    {
      "cell_type": "markdown",
      "source": [
        "## Training the Model"
      ],
      "metadata": {
        "id": "6ma1heYp87GS"
      }
    },
    {
      "cell_type": "code",
      "execution_count": 330,
      "metadata": {
        "id": "PpfNDV0wYL5U"
      },
      "outputs": [],
      "source": [
        "# r is the number of samples in each batch\n",
        "r = 64\n",
        "total_epochs = 200\n",
        "\n",
        "# The loss obtained frmo each version of the model as the model is trained over \n",
        "# a certain number of epochs is stored to be plotted later\n",
        "cost_func_graph = []\n",
        "validation_cost_func_graph = []\n",
        "def training():\n",
        "    for epoch in range(total_epochs):\n",
        "\n",
        "      # Checking the validation cost\n",
        "      valCostSum = 0\n",
        "      for batch_index in range(len(batched_validation_data)):\n",
        "        validation_batch = batched_validation_features[batch_index]\n",
        "        validation_labels = batched_validation_labels[batch_index]\n",
        "\n",
        "        output_1, logits_1 = feedforward(validation_batch, weights[0], bias[0], 'relu')\n",
        "        output_2, logits_2 = feedforward(output_1, weights[1], bias[1], 'softmax')\n",
        "\n",
        "        val_output= np.zeros_like(output_2)\n",
        "        val_output[np.arange(len(output_2)), output_2.argmax(1)] = 1\n",
        "\n",
        "        valCostSum = cost(output_2, validation_labels)\n",
        "\n",
        "      validation_cost = valCostSum/31\n",
        "      validation_cost_func_graph.append(validation_cost)\n",
        "\n",
        "\n",
        "      # Training\n",
        "      for batch_index in range(len(batched_training_data)):\n",
        "        batch = batched_features[batch_index]\n",
        "        labels = batched_labels[batch_index]\n",
        "\n",
        "        # FEEDFORWARD\n",
        "        first_layer_output, first_layer_logits = feedforward(batch, weights[0], bias[0], 'relu')\n",
        "        final_output, final_logits = feedforward(first_layer_output, weights[1], bias[1], 'softmax')\n",
        "\n",
        "        # BACKPROPAGATION\n",
        "        delta_weights = [np.zeros([784, 128]), np.zeros([128, 10])]\n",
        "        delta_bias = [np.zeros([r, 128]), np.zeros([r, 10])]\n",
        "\n",
        "        # Backpropagation through the last layer\n",
        "        # Backpropagation for weights\n",
        "        ones_matrix = np.ones([r, 10])\n",
        "        one_minus_final_output_times_labels = np.multiply((ones_matrix - final_output), labels)\n",
        "        one_minus_final_output_times_labels = one_minus_final_output_times_labels/r\n",
        "        first_layer_output_transpose = first_layer_output.transpose()\n",
        "        delta_weights[1] = -np.matmul(first_layer_output_transpose, one_minus_final_output_times_labels)\n",
        "        delta_weights[1] = delta_weights[1]/r\n",
        "        delta_weights[1] = delta_weights[1]*0.1\n",
        "        weights[1] -= delta_weights[1]\n",
        "\n",
        "        # Calculating the variation of the cost with respect to the input of the last layer\n",
        "        final_layer_weights_transpose = weights[1].transpose()\n",
        "        CVWFO = -np.matmul(one_minus_final_output_times_labels, final_layer_weights_transpose)\n",
        "\n",
        "        # Backpropgation for bias\n",
        "        delta_bias[1][0] = -np.mean(one_minus_final_output_times_labels, axis=0)\n",
        "        for i in range(r):\n",
        "          delta_bias[1][i] = delta_bias[1][0]\n",
        "        delta_bias[1] = delta_bias[1]/r\n",
        "        delta_bias[1] = delta_bias[1]*0.1\n",
        "        bias[1] -= delta_bias[1]\n",
        "\n",
        "        # Backpropagation through the first layer\n",
        "        # Backpropagation for weights\n",
        "        first_layer_logits_relu_derivative = reluDerivative(first_layer_logits)\n",
        "        first_layer_logits_relu_derivative_times_CVWFO = np.multiply(first_layer_logits_relu_derivative, CVWFO)\n",
        "        first_layer_logits_relu_derivative_times_CVWFO = first_layer_logits_relu_derivative_times_CVWFO/r\n",
        "        inputs_transpose = batch.transpose()\n",
        "        delta_weights[0] = np.matmul(inputs_transpose, first_layer_logits_relu_derivative_times_CVWFO)\n",
        "        delta_weights[0] = (delta_weights[0])/r\n",
        "        delta_weights[0] = delta_weights[0]*0.01\n",
        "        weights[0] -= delta_weights[0]\n",
        "\n",
        "\n",
        "        # Backpropagation for bias\n",
        "        delta_bias[0][0] = np.mean(first_layer_logits_relu_derivative_times_CVWFO, axis=0)\n",
        "        for i in range(r):\n",
        "          delta_bias[0][i] = delta_bias[0][0]\n",
        "        delta_bias[0] = delta_bias[0]/r\n",
        "        delta_bias[0] = delta_bias[0]*0.01\n",
        "        bias[1] -= delta_bias[1]\n",
        "\n",
        "      training_cost = cost(final_output, labels)\n",
        "      cost_func_graph.append(training_cost)\n",
        "\n",
        "      training_output = np.zeros_like(final_output)\n",
        "      training_output[np.arange(len(training_output)), training_output.argmax(1)] = 1\n",
        "\n",
        "      print(f\"Epoch : {epoch} - Training Cost : {training_cost} - Validation Cost : {validation_cost}\")"
      ]
    },
    {
      "cell_type": "code",
      "execution_count": 331,
      "metadata": {
        "colab": {
          "base_uri": "https://localhost:8080/"
        },
        "id": "Z6k8LrvuEExQ",
        "outputId": "45c491d3-0d2d-4532-b13e-c6660a57c5f5"
      },
      "outputs": [
        {
          "output_type": "stream",
          "name": "stdout",
          "text": [
            "Epoch : 0 - Training Cost : 0.25454782845583507 - Validation Cost : 0.0084765951082529\n",
            "Epoch : 1 - Training Cost : 0.24137332127241856 - Validation Cost : 0.008122618381294685\n",
            "Epoch : 2 - Training Cost : 0.22971876978981373 - Validation Cost : 0.007809911824995917\n",
            "Epoch : 3 - Training Cost : 0.21940785000134824 - Validation Cost : 0.0075306296381268635\n",
            "Epoch : 4 - Training Cost : 0.21022849651832545 - Validation Cost : 0.007276424400579294\n",
            "Epoch : 5 - Training Cost : 0.2019805065109606 - Validation Cost : 0.007040166584416051\n",
            "Epoch : 6 - Training Cost : 0.19450729500371447 - Validation Cost : 0.006817217999803138\n",
            "Epoch : 7 - Training Cost : 0.18769805869329734 - Validation Cost : 0.006605420674496548\n",
            "Epoch : 8 - Training Cost : 0.18147480591552395 - Validation Cost : 0.006404207088510341\n",
            "Epoch : 9 - Training Cost : 0.17577840732422687 - Validation Cost : 0.006213666190247766\n",
            "Epoch : 10 - Training Cost : 0.1705591958253402 - Validation Cost : 0.006033971367024494\n",
            "Epoch : 11 - Training Cost : 0.16577298752280323 - Validation Cost : 0.005865131027654299\n",
            "Epoch : 12 - Training Cost : 0.16137987999217107 - Validation Cost : 0.005706943603374149\n",
            "Epoch : 13 - Training Cost : 0.1573429500134016 - Validation Cost : 0.005559055923257627\n",
            "Epoch : 14 - Training Cost : 0.15362891647457044 - Validation Cost : 0.005420982827612552\n",
            "Epoch : 15 - Training Cost : 0.15020674037356546 - Validation Cost : 0.00529217421254641\n",
            "Epoch : 16 - Training Cost : 0.1470482029337844 - Validation Cost : 0.005172053660941397\n",
            "Epoch : 17 - Training Cost : 0.1441281214308254 - Validation Cost : 0.0050600154401164565\n",
            "Epoch : 18 - Training Cost : 0.14142376565335296 - Validation Cost : 0.0049554448446396645\n",
            "Epoch : 19 - Training Cost : 0.13891458865496623 - Validation Cost : 0.00485778667688413\n",
            "Epoch : 20 - Training Cost : 0.13658241365157053 - Validation Cost : 0.0047665058579912725\n",
            "Epoch : 21 - Training Cost : 0.13441023343852537 - Validation Cost : 0.004681074666703824\n",
            "Epoch : 22 - Training Cost : 0.13238343050590418 - Validation Cost : 0.0046010066788357866\n",
            "Epoch : 23 - Training Cost : 0.13048832058934612 - Validation Cost : 0.004525829274416994\n",
            "Epoch : 24 - Training Cost : 0.12871457958685836 - Validation Cost : 0.0044551422576719815\n",
            "Epoch : 25 - Training Cost : 0.1270518479330165 - Validation Cost : 0.004388586273810942\n",
            "Epoch : 26 - Training Cost : 0.1254903969327959 - Validation Cost : 0.004325794458542708\n",
            "Epoch : 27 - Training Cost : 0.12402219255868653 - Validation Cost : 0.004266450559594201\n",
            "Epoch : 28 - Training Cost : 0.12264049625619308 - Validation Cost : 0.004210294328778594\n",
            "Epoch : 29 - Training Cost : 0.1213380274459819 - Validation Cost : 0.0041570646384920884\n",
            "Epoch : 30 - Training Cost : 0.12010851602671527 - Validation Cost : 0.004106571739557974\n",
            "Epoch : 31 - Training Cost : 0.11894622461334627 - Validation Cost : 0.004058605666715228\n",
            "Epoch : 32 - Training Cost : 0.11784669981630984 - Validation Cost : 0.004012986124787599\n",
            "Epoch : 33 - Training Cost : 0.11680486760266194 - Validation Cost : 0.0039695232912777545\n",
            "Epoch : 34 - Training Cost : 0.1158163948687487 - Validation Cost : 0.003928059355710394\n",
            "Epoch : 35 - Training Cost : 0.11487802399394349 - Validation Cost : 0.003888455230247579\n",
            "Epoch : 36 - Training Cost : 0.11398742488095182 - Validation Cost : 0.003850570171035825\n",
            "Epoch : 37 - Training Cost : 0.11314166759290543 - Validation Cost : 0.003814295642038118\n",
            "Epoch : 38 - Training Cost : 0.11233680124993069 - Validation Cost : 0.003779539733269961\n",
            "Epoch : 39 - Training Cost : 0.11157133814380646 - Validation Cost : 0.003746210934378517\n",
            "Epoch : 40 - Training Cost : 0.11084167478536242 - Validation Cost : 0.0037142121805556457\n",
            "Epoch : 41 - Training Cost : 0.11014576007672734 - Validation Cost : 0.0036834691194530308\n",
            "Epoch : 42 - Training Cost : 0.10948225229211514 - Validation Cost : 0.003653909495405826\n",
            "Epoch : 43 - Training Cost : 0.10884792868827754 - Validation Cost : 0.0036254593647234825\n",
            "Epoch : 44 - Training Cost : 0.10823931950371661 - Validation Cost : 0.003598087139812243\n",
            "Epoch : 45 - Training Cost : 0.10765773771939126 - Validation Cost : 0.003571737503131453\n",
            "Epoch : 46 - Training Cost : 0.10710074230690192 - Validation Cost : 0.003546371699481359\n",
            "Epoch : 47 - Training Cost : 0.10656750175001961 - Validation Cost : 0.0035219264629406345\n",
            "Epoch : 48 - Training Cost : 0.10605655504754617 - Validation Cost : 0.003498413560934514\n",
            "Epoch : 49 - Training Cost : 0.10556615038896688 - Validation Cost : 0.0034757516648241137\n",
            "Epoch : 50 - Training Cost : 0.10509340990201967 - Validation Cost : 0.0034538646332108133\n",
            "Epoch : 51 - Training Cost : 0.10464110465096133 - Validation Cost : 0.0034326811418873677\n",
            "Epoch : 52 - Training Cost : 0.10420828603718098 - Validation Cost : 0.003412142137756918\n",
            "Epoch : 53 - Training Cost : 0.10379302055680077 - Validation Cost : 0.0033923019763098497\n",
            "Epoch : 54 - Training Cost : 0.10339462575434812 - Validation Cost : 0.003373106072078887\n",
            "Epoch : 55 - Training Cost : 0.10301177549885847 - Validation Cost : 0.0033545174932564\n",
            "Epoch : 56 - Training Cost : 0.10264390219209198 - Validation Cost : 0.0033364854206476935\n",
            "Epoch : 57 - Training Cost : 0.10229027264513374 - Validation Cost : 0.0033189941900029743\n",
            "Epoch : 58 - Training Cost : 0.10195003403571003 - Validation Cost : 0.003302019725857201\n",
            "Epoch : 59 - Training Cost : 0.1016225075368625 - Validation Cost : 0.003285564415231243\n",
            "Epoch : 60 - Training Cost : 0.10130741397228912 - Validation Cost : 0.003269593485064395\n",
            "Epoch : 61 - Training Cost : 0.10100358575233596 - Validation Cost : 0.0032540864107703377\n",
            "Epoch : 62 - Training Cost : 0.10071128610133072 - Validation Cost : 0.0032390185606153018\n",
            "Epoch : 63 - Training Cost : 0.10042895407348876 - Validation Cost : 0.0032243511993656077\n",
            "Epoch : 64 - Training Cost : 0.10015531851660209 - Validation Cost : 0.003210114493471143\n",
            "Epoch : 65 - Training Cost : 0.09989193194539839 - Validation Cost : 0.00319617219990708\n",
            "Epoch : 66 - Training Cost : 0.09963763689929864 - Validation Cost : 0.0031826077115117224\n",
            "Epoch : 67 - Training Cost : 0.099392727592041 - Validation Cost : 0.0031693897020429445\n",
            "Epoch : 68 - Training Cost : 0.09915571409501693 - Validation Cost : 0.003156524034416289\n",
            "Epoch : 69 - Training Cost : 0.0989257683431223 - Validation Cost : 0.0031439558495415863\n",
            "Epoch : 70 - Training Cost : 0.09870418692557233 - Validation Cost : 0.0031317612594606655\n",
            "Epoch : 71 - Training Cost : 0.09849049808563104 - Validation Cost : 0.0031199147030138556\n",
            "Epoch : 72 - Training Cost : 0.09828624668474634 - Validation Cost : 0.0031083822309540725\n",
            "Epoch : 73 - Training Cost : 0.0980923001149817 - Validation Cost : 0.003097155324087032\n",
            "Epoch : 74 - Training Cost : 0.09790569614364605 - Validation Cost : 0.0030861663924670016\n",
            "Epoch : 75 - Training Cost : 0.09772653098329638 - Validation Cost : 0.003075444311796124\n",
            "Epoch : 76 - Training Cost : 0.0975551982300191 - Validation Cost : 0.0030650359678045438\n",
            "Epoch : 77 - Training Cost : 0.09739039398046885 - Validation Cost : 0.0030548385345489618\n",
            "Epoch : 78 - Training Cost : 0.09723121599487908 - Validation Cost : 0.0030448135229645566\n",
            "Epoch : 79 - Training Cost : 0.09707755213462062 - Validation Cost : 0.0030351075144361877\n",
            "Epoch : 80 - Training Cost : 0.09693136924931078 - Validation Cost : 0.003025593682797178\n",
            "Epoch : 81 - Training Cost : 0.09678989792968656 - Validation Cost : 0.0030163037967380502\n",
            "Epoch : 82 - Training Cost : 0.09665333481420593 - Validation Cost : 0.0030072518356163993\n",
            "Epoch : 83 - Training Cost : 0.09652429502843349 - Validation Cost : 0.002998422258294808\n",
            "Epoch : 84 - Training Cost : 0.09640076850624454 - Validation Cost : 0.002989813065054682\n",
            "Epoch : 85 - Training Cost : 0.09628239692242038 - Validation Cost : 0.002981427350197348\n",
            "Epoch : 86 - Training Cost : 0.09617004995603802 - Validation Cost : 0.0029732196054689107\n",
            "Epoch : 87 - Training Cost : 0.09606216498271938 - Validation Cost : 0.0029652066299981953\n",
            "Epoch : 88 - Training Cost : 0.09595736308175254 - Validation Cost : 0.0029574002555683705\n",
            "Epoch : 89 - Training Cost : 0.09585598387037106 - Validation Cost : 0.0029497698736141117\n",
            "Epoch : 90 - Training Cost : 0.09575807850722033 - Validation Cost : 0.002942449556882606\n",
            "Epoch : 91 - Training Cost : 0.0956630650025342 - Validation Cost : 0.002935369935899051\n",
            "Epoch : 92 - Training Cost : 0.09556952815049327 - Validation Cost : 0.002928476474704817\n",
            "Epoch : 93 - Training Cost : 0.09547773243282547 - Validation Cost : 0.0029219609510793363\n",
            "Epoch : 94 - Training Cost : 0.09538935752875635 - Validation Cost : 0.0029156283425474197\n",
            "Epoch : 95 - Training Cost : 0.0953060067087059 - Validation Cost : 0.002909478927084558\n",
            "Epoch : 96 - Training Cost : 0.0952266924768396 - Validation Cost : 0.0029034859662525002\n",
            "Epoch : 97 - Training Cost : 0.0951505039782695 - Validation Cost : 0.002897668943606411\n",
            "Epoch : 98 - Training Cost : 0.09507756571963133 - Validation Cost : 0.0028920352812881215\n",
            "Epoch : 99 - Training Cost : 0.0950070302990768 - Validation Cost : 0.002886587856790522\n",
            "Epoch : 100 - Training Cost : 0.09493912171648046 - Validation Cost : 0.002881336649861148\n",
            "Epoch : 101 - Training Cost : 0.09487397987552018 - Validation Cost : 0.0028762162229800476\n",
            "Epoch : 102 - Training Cost : 0.09481151312838912 - Validation Cost : 0.002871334822193459\n",
            "Epoch : 103 - Training Cost : 0.09475214382802606 - Validation Cost : 0.0028666195876086687\n",
            "Epoch : 104 - Training Cost : 0.09469531277444145 - Validation Cost : 0.0028620465959884175\n",
            "Epoch : 105 - Training Cost : 0.09463345460146165 - Validation Cost : 0.002857619750917265\n",
            "Epoch : 106 - Training Cost : 0.09457326000001683 - Validation Cost : 0.0028532933432191226\n",
            "Epoch : 107 - Training Cost : 0.09451663745633747 - Validation Cost : 0.002848961499493549\n",
            "Epoch : 108 - Training Cost : 0.09445907701176502 - Validation Cost : 0.002844469520871433\n",
            "Epoch : 109 - Training Cost : 0.0944032669839047 - Validation Cost : 0.0028401375980454807\n",
            "Epoch : 110 - Training Cost : 0.09434961813737124 - Validation Cost : 0.002835832381219384\n",
            "Epoch : 111 - Training Cost : 0.09429873398763544 - Validation Cost : 0.002831753387430756\n",
            "Epoch : 112 - Training Cost : 0.09425275216246397 - Validation Cost : 0.002827761596232239\n",
            "Epoch : 113 - Training Cost : 0.09420868717196762 - Validation Cost : 0.0028239267792360377\n",
            "Epoch : 114 - Training Cost : 0.09416607281756686 - Validation Cost : 0.002820206993079871\n",
            "Epoch : 115 - Training Cost : 0.09412442700873039 - Validation Cost : 0.002816783946128063\n",
            "Epoch : 116 - Training Cost : 0.09408742148644858 - Validation Cost : 0.002813499775967814\n",
            "Epoch : 117 - Training Cost : 0.09406028431157952 - Validation Cost : 0.0028102852108447597\n",
            "Epoch : 118 - Training Cost : 0.09403587858551689 - Validation Cost : 0.002807304606754302\n",
            "Epoch : 119 - Training Cost : 0.09401396055421615 - Validation Cost : 0.002804629778694686\n",
            "Epoch : 120 - Training Cost : 0.09399340216023515 - Validation Cost : 0.0028020574338285787\n",
            "Epoch : 121 - Training Cost : 0.09398094890906453 - Validation Cost : 0.0027995872793295457\n",
            "Epoch : 122 - Training Cost : 0.0939683360949834 - Validation Cost : 0.002797159629662633\n",
            "Epoch : 123 - Training Cost : 0.09395849136473562 - Validation Cost : 0.0027948384412392674\n",
            "Epoch : 124 - Training Cost : 0.09395507855404094 - Validation Cost : 0.0027926978291823077\n",
            "Epoch : 125 - Training Cost : 0.0939537093057073 - Validation Cost : 0.00279061908204619\n",
            "Epoch : 126 - Training Cost : 0.09395496449493256 - Validation Cost : 0.0027885636894823865\n",
            "Epoch : 127 - Training Cost : 0.09395684348814268 - Validation Cost : 0.002786452581048504\n",
            "Epoch : 128 - Training Cost : 0.0939597790811071 - Validation Cost : 0.0027844093602696104\n",
            "Epoch : 129 - Training Cost : 0.09396615773647576 - Validation Cost : 0.00278247363622225\n",
            "Epoch : 130 - Training Cost : 0.09397580421652076 - Validation Cost : 0.002780607865751705\n",
            "Epoch : 131 - Training Cost : 0.09399011350522653 - Validation Cost : 0.0027788940331240886\n",
            "Epoch : 132 - Training Cost : 0.09400717028600143 - Validation Cost : 0.0027772996361656306\n",
            "Epoch : 133 - Training Cost : 0.09402524265971568 - Validation Cost : 0.0027758369693211323\n",
            "Epoch : 134 - Training Cost : 0.09404489368818306 - Validation Cost : 0.0027746430422058697\n",
            "Epoch : 135 - Training Cost : 0.09406640309506292 - Validation Cost : 0.002773555329930657\n",
            "Epoch : 136 - Training Cost : 0.09409091200844062 - Validation Cost : 0.002772425396726677\n",
            "Epoch : 137 - Training Cost : 0.09411838122478439 - Validation Cost : 0.0027714338131616108\n",
            "Epoch : 138 - Training Cost : 0.09415077221054256 - Validation Cost : 0.002770529410112171\n",
            "Epoch : 139 - Training Cost : 0.0941840721490836 - Validation Cost : 0.0027697025288288667\n",
            "Epoch : 140 - Training Cost : 0.09422072775646391 - Validation Cost : 0.0027689647016319605\n",
            "Epoch : 141 - Training Cost : 0.09426164041429272 - Validation Cost : 0.0027682331822610038\n",
            "Epoch : 142 - Training Cost : 0.09430864738463261 - Validation Cost : 0.0027675596724935727\n",
            "Epoch : 143 - Training Cost : 0.09435879094094199 - Validation Cost : 0.0027669572813491276\n",
            "Epoch : 144 - Training Cost : 0.09440853137585059 - Validation Cost : 0.002766502380942445\n",
            "Epoch : 145 - Training Cost : 0.09445918773207578 - Validation Cost : 0.002766214978764027\n",
            "Epoch : 146 - Training Cost : 0.09451074632577583 - Validation Cost : 0.002765995033678875\n",
            "Epoch : 147 - Training Cost : 0.09456223255120252 - Validation Cost : 0.002765720143038528\n",
            "Epoch : 148 - Training Cost : 0.0946142349388944 - Validation Cost : 0.0027655603438198916\n",
            "Epoch : 149 - Training Cost : 0.09466646511000164 - Validation Cost : 0.0027655288959474627\n",
            "Epoch : 150 - Training Cost : 0.0947198718761257 - Validation Cost : 0.0027655834067798254\n",
            "Epoch : 151 - Training Cost : 0.09477367968018915 - Validation Cost : 0.0027656926192848497\n",
            "Epoch : 152 - Training Cost : 0.09482901129621686 - Validation Cost : 0.0027659092785373546\n",
            "Epoch : 153 - Training Cost : 0.09488566250846549 - Validation Cost : 0.0027662587442840144\n",
            "Epoch : 154 - Training Cost : 0.09494395553883597 - Validation Cost : 0.002766657002368804\n",
            "Epoch : 155 - Training Cost : 0.0950034029538997 - Validation Cost : 0.0027671095981288613\n",
            "Epoch : 156 - Training Cost : 0.09506358524528834 - Validation Cost : 0.002767692682104716\n",
            "Epoch : 157 - Training Cost : 0.09512284232130762 - Validation Cost : 0.0027683381221643836\n",
            "Epoch : 158 - Training Cost : 0.09518247416768434 - Validation Cost : 0.0027690416095465225\n",
            "Epoch : 159 - Training Cost : 0.09524310403430879 - Validation Cost : 0.002769796613234886\n",
            "Epoch : 160 - Training Cost : 0.09530361469005093 - Validation Cost : 0.0027705336991973926\n",
            "Epoch : 161 - Training Cost : 0.09536455750610967 - Validation Cost : 0.0027712879981359193\n",
            "Epoch : 162 - Training Cost : 0.09542537624534221 - Validation Cost : 0.0027721323511378554\n",
            "Epoch : 163 - Training Cost : 0.09548765309019552 - Validation Cost : 0.0027730584146013625\n",
            "Epoch : 164 - Training Cost : 0.09555247321228534 - Validation Cost : 0.0027740614770745977\n",
            "Epoch : 165 - Training Cost : 0.09561726063324893 - Validation Cost : 0.0027751432013766422\n",
            "Epoch : 166 - Training Cost : 0.09568220003645071 - Validation Cost : 0.00277624646508246\n",
            "Epoch : 167 - Training Cost : 0.09575104356017176 - Validation Cost : 0.00277741407372489\n",
            "Epoch : 168 - Training Cost : 0.09582640126647922 - Validation Cost : 0.002778660559789091\n",
            "Epoch : 169 - Training Cost : 0.09590188664612499 - Validation Cost : 0.0027799122042174657\n",
            "Epoch : 170 - Training Cost : 0.09597415275966567 - Validation Cost : 0.0027812233815727705\n",
            "Epoch : 171 - Training Cost : 0.09605056826975487 - Validation Cost : 0.0027824436283199\n",
            "Epoch : 172 - Training Cost : 0.09612775498234238 - Validation Cost : 0.0027833955709428834\n",
            "Epoch : 173 - Training Cost : 0.09620627574335339 - Validation Cost : 0.002784357624821511\n",
            "Epoch : 174 - Training Cost : 0.096287734430602 - Validation Cost : 0.002785334773391087\n",
            "Epoch : 175 - Training Cost : 0.09636735023082324 - Validation Cost : 0.0027862863950247597\n",
            "Epoch : 176 - Training Cost : 0.09645032402846881 - Validation Cost : 0.0027872364607734565\n",
            "Epoch : 177 - Training Cost : 0.096539415494731 - Validation Cost : 0.0027882679716590506\n",
            "Epoch : 178 - Training Cost : 0.09663091920304423 - Validation Cost : 0.002789395083414717\n",
            "Epoch : 179 - Training Cost : 0.09672186783874703 - Validation Cost : 0.002790567005921094\n",
            "Epoch : 180 - Training Cost : 0.09681661505705978 - Validation Cost : 0.0027917560219577415\n",
            "Epoch : 181 - Training Cost : 0.09691358373746777 - Validation Cost : 0.002792977898113478\n",
            "Epoch : 182 - Training Cost : 0.09701131605779381 - Validation Cost : 0.00279411191482135\n",
            "Epoch : 183 - Training Cost : 0.0971108636549731 - Validation Cost : 0.002795431872026685\n",
            "Epoch : 184 - Training Cost : 0.09720991657419224 - Validation Cost : 0.0027968227856907417\n",
            "Epoch : 185 - Training Cost : 0.09730932608509678 - Validation Cost : 0.0027982564337932386\n",
            "Epoch : 186 - Training Cost : 0.09740957227436657 - Validation Cost : 0.002799750621106458\n",
            "Epoch : 187 - Training Cost : 0.09751046410328344 - Validation Cost : 0.002801324444550707\n",
            "Epoch : 188 - Training Cost : 0.09761204283479018 - Validation Cost : 0.0028029443032620543\n",
            "Epoch : 189 - Training Cost : 0.09771432812474912 - Validation Cost : 0.0028045579597466034\n",
            "Epoch : 190 - Training Cost : 0.0978174491776893 - Validation Cost : 0.0028062016804944593\n",
            "Epoch : 191 - Training Cost : 0.09792163138700032 - Validation Cost : 0.002807971712663197\n",
            "Epoch : 192 - Training Cost : 0.09802800336657079 - Validation Cost : 0.002809821085453859\n",
            "Epoch : 193 - Training Cost : 0.09813833598385242 - Validation Cost : 0.002811684858610678\n",
            "Epoch : 194 - Training Cost : 0.0982509362804297 - Validation Cost : 0.002813592569401124\n",
            "Epoch : 195 - Training Cost : 0.09836420445069496 - Validation Cost : 0.002815535272019828\n",
            "Epoch : 196 - Training Cost : 0.09847470543392495 - Validation Cost : 0.0028174973809602494\n",
            "Epoch : 197 - Training Cost : 0.09857414904751183 - Validation Cost : 0.0028195677946615126\n",
            "Epoch : 198 - Training Cost : 0.09867044737317103 - Validation Cost : 0.0028216777287045822\n",
            "Epoch : 199 - Training Cost : 0.09876711366761017 - Validation Cost : 0.0028237862130397564\n"
          ]
        }
      ],
      "source": [
        "training()"
      ]
    },
    {
      "cell_type": "markdown",
      "source": [
        "## Evaluating the Model"
      ],
      "metadata": {
        "id": "S-jbV60W6Bw_"
      }
    },
    {
      "cell_type": "markdown",
      "source": [
        "### Plotting the graph of *Cost VS Epochs* for training and validation"
      ],
      "metadata": {
        "id": "gao-9oER7gOU"
      }
    },
    {
      "cell_type": "code",
      "execution_count": 332,
      "metadata": {
        "colab": {
          "base_uri": "https://localhost:8080/",
          "height": 388
        },
        "id": "NIm1f5egwK7h",
        "outputId": "c657e7cd-b206-44f4-ecc3-f48fd5c0d617"
      },
      "outputs": [
        {
          "output_type": "display_data",
          "data": {
            "image/png": "[encoded data removed]",
            "text/plain": [
              "<Figure size 720x432 with 1 Axes>"
            ]
          },
          "metadata": {
            "needs_background": "light"
          }
        }
      ],
      "source": [
        "epochs=  200\n",
        "if len(cost_func_graph) == 0:\n",
        "  print(\"The data has not been trained yet\")\n",
        "else:\n",
        "  plt.figure(figsize=(10,6))\n",
        "  plt.plot([i for i in range(epochs)],cost_func_graph)\n",
        "  plt.plot([i for i in range(epochs)],validation_cost_func_graph)\n",
        "  plt.xlabel(\"Epochs\")\n",
        "  plt.ylabel(\"Cost_Function\")\n",
        "  plt.legend(['Training Loss', 'Validation Loss'])\n",
        "  plt.grid(True)\n"
      ]
    },
    {
      "cell_type": "markdown",
      "source": [
        "### Testing the model using the test set"
      ],
      "metadata": {
        "id": "ImK-1nvu7S5-"
      }
    },
    {
      "cell_type": "code",
      "execution_count": 333,
      "metadata": {
        "colab": {
          "base_uri": "https://localhost:8080/"
        },
        "id": "fim1XQUWpvoX",
        "outputId": "12f638c5-71b1-4363-9798-baf548a05dc7"
      },
      "outputs": [
        {
          "output_type": "stream",
          "name": "stdout",
          "text": [
            "Training Accuracy : 77.85\n",
            "Test Accuracy : 75.85\n"
          ]
        }
      ],
      "source": [
        "test_count = 0\n",
        "for batch_index in range(len(batched_testing_data)):\n",
        "  batch = batched_testing_features[batch_index]\n",
        "  label = batched_testing_labels[batch_index]\n",
        "\n",
        "  first_layer_output, first_layer_logits = feedforward(batch, weights[0], bias[0], 'relu')\n",
        "  final_output, final_logits = feedforward(first_layer_output, weights[1], bias[1], 'softmax')\n",
        "\n",
        "  one_hot_output= np.zeros_like(final_output)\n",
        "  one_hot_output[np.arange(len(final_output)), final_output.argmax(1)] = 1\n",
        "\n",
        "  count_for_batch = 0\n",
        "  for i in range(len(label)):\n",
        "    if (label[i] == one_hot_output[i]).all():\n",
        "      count_for_batch += 1\n",
        "  \n",
        "  test_count += count_for_batch\n",
        "\n",
        "train_count = 0\n",
        "for batch_index in range(len(batched_training_data)):\n",
        "  batch = batched_features[batch_index]\n",
        "  label = batched_labels[batch_index]\n",
        "\n",
        "  first_layer_output, first_layer_logits = feedforward(batch, weights[0], bias[0], 'relu')\n",
        "  final_output, final_logits = feedforward(first_layer_output, weights[1], bias[1], 'softmax')\n",
        "\n",
        "  one_hot_output= np.zeros_like(final_output)\n",
        "  one_hot_output[np.arange(len(final_output)), final_output.argmax(1)] = 1\n",
        "\n",
        "  count_for_batch = 0\n",
        "  for i in range(len(label)):\n",
        "    if (label[i] == one_hot_output[i]).all():\n",
        "      count_for_batch += 1\n",
        "  \n",
        "  train_count += count_for_batch\n",
        "\n",
        "print(f\"Training Accuracy : {(train_count/10000)*100}\")\n",
        "print(f\"Test Accuracy : {(test_count/4000)*100}\")"
      ]
    },
    {
      "cell_type": "markdown",
      "source": [
        "### Taking a sample image and passing it through the model"
      ],
      "metadata": {
        "id": "dgnMvlrY7Wkm"
      }
    },
    {
      "cell_type": "code",
      "execution_count": 334,
      "metadata": {
        "id": "94v5WWOKgV2z"
      },
      "outputs": [],
      "source": [
        "image = cv2.imread('/content/drive/MyDrive/Colab Notebooks/NeuralNetworksFromScratch/Image files/trainingSample/img_602.jpg', cv2.IMREAD_GRAYSCALE)"
      ]
    },
    {
      "cell_type": "code",
      "execution_count": 335,
      "metadata": {
        "colab": {
          "base_uri": "https://localhost:8080/",
          "height": 45
        },
        "id": "oBEvm2_pvFLu",
        "outputId": "f86f4dd5-655c-4c65-b487-1c7a8524b2bd"
      },
      "outputs": [
        {
          "output_type": "display_data",
          "data": {
            "image/png": "[encoded data removed]",
            "text/plain": [
              "<PIL.Image.Image image mode=L size=28x28 at 0x7F4A4CFDF050>"
            ]
          },
          "metadata": {}
        }
      ],
      "source": [
        "\n",
        "from google.colab.patches import cv2_imshow\n",
        "cv2_imshow(image)"
      ]
    },
    {
      "cell_type": "code",
      "execution_count": 336,
      "metadata": {
        "id": "YI0y93HjvHsC",
        "colab": {
          "base_uri": "https://localhost:8080/"
        },
        "outputId": "b79609c8-5a17-4b87-d27b-3a3d338cc1a5"
      },
      "outputs": [
        {
          "output_type": "stream",
          "name": "stdout",
          "text": [
            "[[0. 0. 0. 0. 0. 1. 0. 0. 0. 0.]]\n"
          ]
        }
      ],
      "source": [
        "flattened_image = np.array([image.reshape(-1)])/255\n",
        "\n",
        "test_first_layer_output, test_first_layer_logit = feedforward(flattened_image, weights[0], bias[0][0], 'relu')\n",
        "test_output, test_logit = feedforward(test_first_layer_output, weights[1], bias[1][0], 'softmax')\n",
        "\n",
        "one_hot_test_output= np.zeros_like(test_output)\n",
        "one_hot_test_output[np.arange(len(test_output)), test_output.argmax(1)] = 1\n",
        "\n",
        "print(one_hot_test_output)"
      ]
    }
  ],
  "metadata": {
    "colab": {
      "collapsed_sections": [],
      "name": "NeuralNetwork.ipynb",
      "provenance": []
    },
    "kernelspec": {
      "display_name": "Python 3",
      "name": "python3"
    },
    "language_info": {
      "name": "python"
    }
  },
  "nbformat": 4,
  "nbformat_minor": 0
}