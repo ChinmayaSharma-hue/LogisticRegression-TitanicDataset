{
 "cells": [
  {
   "cell_type": "code",
   "execution_count": 1,
   "id": "aa06320b-4cd3-497c-958f-3eace92f72b3",
   "metadata": {},
   "outputs": [],
   "source": [
    "import numpy as np\n",
    "import pandas as pd\n",
    "import matplotlib.pyplot as plt\n",
    "from tqdm import tqdm"
   ]
  },
  {
   "cell_type": "markdown",
   "id": "1d438797-2a08-4796-bf1d-9795e55594a9",
   "metadata": {},
   "source": [
    "# Loading the data"
   ]
  },
  {
   "cell_type": "code",
   "execution_count": 2,
   "id": "b65aa20f-cc79-433f-bdf4-13e03b55d159",
   "metadata": {},
   "outputs": [],
   "source": [
    "def load_data():\n",
    "    return pd.read_csv('Titanic_ISTE.csv')"
   ]
  },
  {
   "cell_type": "code",
   "execution_count": 3,
   "id": "5ea3663c-07a0-4010-bd00-bda960ea9364",
   "metadata": {},
   "outputs": [],
   "source": [
    "data = load_data()"
   ]
  },
  {
   "cell_type": "markdown",
   "id": "f8f84918-c5f5-4f18-a398-a46d91edd7fa",
   "metadata": {},
   "source": [
    "# Data Cleaning"
   ]
  },
  {
   "cell_type": "code",
   "execution_count": 4,
   "id": "c82ce979-b669-4b30-a5a0-68812f46f933",
   "metadata": {},
   "outputs": [],
   "source": [
    "data = data.drop(['Unnamed: 12','Unnamed: 13','Unnamed: 14','Unnamed: 15','Unnamed: 16','Unnamed: 17','Cabin','Ticket','PassengerId','Name'], axis=1)"
   ]
  },
  {
   "cell_type": "markdown",
   "id": "b4af2ea8-b3b3-4060-8655-6532a1f9f581",
   "metadata": {},
   "source": [
    "### Filling NaN entries in the columns"
   ]
  },
  {
   "cell_type": "code",
   "execution_count": 5,
   "id": "b9ce87b9-e789-407d-8c18-9ef1ed205e8e",
   "metadata": {},
   "outputs": [],
   "source": [
    "median = data['Age'].median()\n",
    "data['Age'].fillna(median, inplace=True)\n",
    "data['Embarked'].fillna('S', inplace=True)\n",
    "data['Sex'].fillna('male', inplace=True)\n",
    "median = data['SibSp'].median()\n",
    "data['SibSp'].fillna(median, inplace=True)\n",
    "data['bias'] = [1]*891\n",
    "median = data['Parch'].median()\n",
    "data['Parch'].fillna(median, inplace=True)\n",
    "data['Survived'].fillna(0, inplace=True)\n",
    "data['Pclass'].fillna(3.0, inplace=True)"
   ]
  },
  {
   "cell_type": "markdown",
   "id": "cf7db9ce-5a35-4878-840d-5d9faefdb6a3",
   "metadata": {},
   "source": [
    "### Normalization"
   ]
  },
  {
   "cell_type": "code",
   "execution_count": 6,
   "id": "53f6ccb2-55e9-42f0-bead-4b27346e5115",
   "metadata": {},
   "outputs": [],
   "source": [
    "data['Age'] = data['Age']/data['Age'].mean()\n",
    "data['Fare'] = data['Fare']/data['Fare'].mean()"
   ]
  },
  {
   "cell_type": "markdown",
   "id": "36b90729-5f93-4a24-8b1f-b1c7962d588e",
   "metadata": {},
   "source": [
    "### Encoding Categorical Attributes"
   ]
  },
  {
   "cell_type": "code",
   "execution_count": 7,
   "id": "512bc589-a4d3-4448-99cc-6dfe89c53d08",
   "metadata": {},
   "outputs": [],
   "source": [
    "col = pd.get_dummies(data['Embarked']).drop(['S'],axis='columns').astype('int64')\n",
    "data = pd.concat([data,col],axis='columns').drop('Embarked',axis='columns')\n",
    "\n",
    "col = pd.get_dummies(data['Sex']).drop(['male'],axis='columns').astype('int64')\n",
    "data = pd.concat([data,col],axis='columns').drop('Sex',axis='columns')"
   ]
  },
  {
   "cell_type": "code",
   "execution_count": 8,
   "id": "bf4cf9f3-7123-475e-9757-8df3c3a280ec",
   "metadata": {},
   "outputs": [
    {
     "data": {
      "text/html": [
       "<div>\n",
       "<style scoped>\n",
       "    .dataframe tbody tr th:only-of-type {\n",
       "        vertical-align: middle;\n",
       "    }\n",
       "\n",
       "    .dataframe tbody tr th {\n",
       "        vertical-align: top;\n",
       "    }\n",
       "\n",
       "    .dataframe thead th {\n",
       "        text-align: right;\n",
       "    }\n",
       "</style>\n",
       "<table border=\"1\" class=\"dataframe\">\n",
       "  <thead>\n",
       "    <tr style=\"text-align: right;\">\n",
       "      <th></th>\n",
       "      <th>Survived</th>\n",
       "      <th>Pclass</th>\n",
       "      <th>Age</th>\n",
       "      <th>SibSp</th>\n",
       "      <th>Parch</th>\n",
       "      <th>Fare</th>\n",
       "      <th>bias</th>\n",
       "      <th>C</th>\n",
       "      <th>Q</th>\n",
       "      <th>female</th>\n",
       "    </tr>\n",
       "  </thead>\n",
       "  <tbody>\n",
       "    <tr>\n",
       "      <th>0</th>\n",
       "      <td>0.0</td>\n",
       "      <td>3.0</td>\n",
       "      <td>0.749852</td>\n",
       "      <td>1.0</td>\n",
       "      <td>0.0</td>\n",
       "      <td>0.225126</td>\n",
       "      <td>1</td>\n",
       "      <td>0</td>\n",
       "      <td>0</td>\n",
       "      <td>0</td>\n",
       "    </tr>\n",
       "    <tr>\n",
       "      <th>1</th>\n",
       "      <td>1.0</td>\n",
       "      <td>1.0</td>\n",
       "      <td>1.295198</td>\n",
       "      <td>1.0</td>\n",
       "      <td>0.0</td>\n",
       "      <td>2.213478</td>\n",
       "      <td>1</td>\n",
       "      <td>1</td>\n",
       "      <td>0</td>\n",
       "      <td>1</td>\n",
       "    </tr>\n",
       "    <tr>\n",
       "      <th>2</th>\n",
       "      <td>1.0</td>\n",
       "      <td>3.0</td>\n",
       "      <td>0.886188</td>\n",
       "      <td>0.0</td>\n",
       "      <td>0.0</td>\n",
       "      <td>0.246086</td>\n",
       "      <td>1</td>\n",
       "      <td>0</td>\n",
       "      <td>0</td>\n",
       "      <td>1</td>\n",
       "    </tr>\n",
       "    <tr>\n",
       "      <th>3</th>\n",
       "      <td>1.0</td>\n",
       "      <td>1.0</td>\n",
       "      <td>1.192946</td>\n",
       "      <td>1.0</td>\n",
       "      <td>0.0</td>\n",
       "      <td>1.648853</td>\n",
       "      <td>1</td>\n",
       "      <td>0</td>\n",
       "      <td>0</td>\n",
       "      <td>1</td>\n",
       "    </tr>\n",
       "    <tr>\n",
       "      <th>4</th>\n",
       "      <td>0.0</td>\n",
       "      <td>3.0</td>\n",
       "      <td>1.192946</td>\n",
       "      <td>0.0</td>\n",
       "      <td>0.0</td>\n",
       "      <td>0.249967</td>\n",
       "      <td>1</td>\n",
       "      <td>0</td>\n",
       "      <td>0</td>\n",
       "      <td>0</td>\n",
       "    </tr>\n",
       "    <tr>\n",
       "      <th>...</th>\n",
       "      <td>...</td>\n",
       "      <td>...</td>\n",
       "      <td>...</td>\n",
       "      <td>...</td>\n",
       "      <td>...</td>\n",
       "      <td>...</td>\n",
       "      <td>...</td>\n",
       "      <td>...</td>\n",
       "      <td>...</td>\n",
       "      <td>...</td>\n",
       "    </tr>\n",
       "    <tr>\n",
       "      <th>886</th>\n",
       "      <td>0.0</td>\n",
       "      <td>2.0</td>\n",
       "      <td>0.920273</td>\n",
       "      <td>0.0</td>\n",
       "      <td>0.0</td>\n",
       "      <td>0.403674</td>\n",
       "      <td>1</td>\n",
       "      <td>0</td>\n",
       "      <td>0</td>\n",
       "      <td>0</td>\n",
       "    </tr>\n",
       "    <tr>\n",
       "      <th>887</th>\n",
       "      <td>1.0</td>\n",
       "      <td>1.0</td>\n",
       "      <td>0.647599</td>\n",
       "      <td>0.0</td>\n",
       "      <td>0.0</td>\n",
       "      <td>0.931555</td>\n",
       "      <td>1</td>\n",
       "      <td>0</td>\n",
       "      <td>0</td>\n",
       "      <td>1</td>\n",
       "    </tr>\n",
       "    <tr>\n",
       "      <th>888</th>\n",
       "      <td>0.0</td>\n",
       "      <td>3.0</td>\n",
       "      <td>0.954357</td>\n",
       "      <td>1.0</td>\n",
       "      <td>2.0</td>\n",
       "      <td>0.728166</td>\n",
       "      <td>1</td>\n",
       "      <td>0</td>\n",
       "      <td>0</td>\n",
       "      <td>1</td>\n",
       "    </tr>\n",
       "    <tr>\n",
       "      <th>889</th>\n",
       "      <td>1.0</td>\n",
       "      <td>1.0</td>\n",
       "      <td>0.886188</td>\n",
       "      <td>0.0</td>\n",
       "      <td>0.0</td>\n",
       "      <td>0.931555</td>\n",
       "      <td>1</td>\n",
       "      <td>1</td>\n",
       "      <td>0</td>\n",
       "      <td>0</td>\n",
       "    </tr>\n",
       "    <tr>\n",
       "      <th>890</th>\n",
       "      <td>0.0</td>\n",
       "      <td>3.0</td>\n",
       "      <td>1.090693</td>\n",
       "      <td>0.0</td>\n",
       "      <td>0.0</td>\n",
       "      <td>0.240652</td>\n",
       "      <td>1</td>\n",
       "      <td>0</td>\n",
       "      <td>1</td>\n",
       "      <td>0</td>\n",
       "    </tr>\n",
       "  </tbody>\n",
       "</table>\n",
       "<p>891 rows × 10 columns</p>\n",
       "</div>"
      ],
      "text/plain": [
       "     Survived  Pclass       Age  SibSp  Parch      Fare  bias  C  Q  female\n",
       "0         0.0     3.0  0.749852    1.0    0.0  0.225126     1  0  0       0\n",
       "1         1.0     1.0  1.295198    1.0    0.0  2.213478     1  1  0       1\n",
       "2         1.0     3.0  0.886188    0.0    0.0  0.246086     1  0  0       1\n",
       "3         1.0     1.0  1.192946    1.0    0.0  1.648853     1  0  0       1\n",
       "4         0.0     3.0  1.192946    0.0    0.0  0.249967     1  0  0       0\n",
       "..        ...     ...       ...    ...    ...       ...   ... .. ..     ...\n",
       "886       0.0     2.0  0.920273    0.0    0.0  0.403674     1  0  0       0\n",
       "887       1.0     1.0  0.647599    0.0    0.0  0.931555     1  0  0       1\n",
       "888       0.0     3.0  0.954357    1.0    2.0  0.728166     1  0  0       1\n",
       "889       1.0     1.0  0.886188    0.0    0.0  0.931555     1  1  0       0\n",
       "890       0.0     3.0  1.090693    0.0    0.0  0.240652     1  0  1       0\n",
       "\n",
       "[891 rows x 10 columns]"
      ]
     },
     "execution_count": 8,
     "metadata": {},
     "output_type": "execute_result"
    }
   ],
   "source": [
    "data.reset_index(drop=True)"
   ]
  },
  {
   "cell_type": "markdown",
   "id": "9187f9fa-1feb-4440-8ea0-3bdeea6d54a5",
   "metadata": {},
   "source": [
    "# Creating a test set"
   ]
  },
  {
   "cell_type": "code",
   "execution_count": 9,
   "id": "2445773f-bd38-4aed-8df6-caea7b65e0ae",
   "metadata": {},
   "outputs": [
    {
     "name": "stdout",
     "output_type": "stream",
     "text": [
      "713\n",
      "178\n"
     ]
    }
   ],
   "source": [
    "def split_train_test(data,test_ratio):\n",
    "    shuffled_indices = np.random.permutation(len(data))\n",
    "    test_set_size = int(len(data)*test_ratio)\n",
    "    test_indices = shuffled_indices[:test_set_size]\n",
    "    train_indices = shuffled_indices[test_set_size:]\n",
    "    return data.iloc[train_indices], data.iloc[test_indices]\n",
    "\n",
    "train_set, test_set = split_train_test(data, 0.2)\n",
    "print(len(train_set))\n",
    "print(len(test_set))"
   ]
  },
  {
   "cell_type": "code",
   "execution_count": 10,
   "id": "ec883aaf-fc2a-4283-be57-1d4c01047b16",
   "metadata": {},
   "outputs": [],
   "source": [
    "train_features = train_set.drop(\"Survived\", axis=1)\n",
    "train_labels = train_set[\"Survived\"].copy()\n",
    "\n",
    "test_features = test_set.drop(\"Survived\", axis=1)\n",
    "test_labels = test_set[\"Survived\"].copy()"
   ]
  },
  {
   "cell_type": "markdown",
   "id": "ed826243-513d-4100-9d53-6d4a7197fef0",
   "metadata": {},
   "source": [
    "# Model"
   ]
  },
  {
   "cell_type": "code",
   "execution_count": 11,
   "id": "53d49647-f8a6-483b-a953-48e74e146aa5",
   "metadata": {},
   "outputs": [],
   "source": [
    "class LogisticRegression():\n",
    "    \n",
    "    def __init__(self,_input,_labels,epochs):\n",
    "        self._input = _input\n",
    "        self._labels = _labels\n",
    "        self.weights = np.zeros([9,1])\n",
    "        self.epochs = epochs\n",
    "        self.cost_func_graph = []\n",
    "        self.output = []\n",
    "    \n",
    "    def activation(self,x):\n",
    "        return 1/(1+np.exp(-x)) \n",
    "    \n",
    "    def _feedforward(self):\n",
    "        return self.activation(np.matmul(self._input,self.weights))\n",
    "    \n",
    "    def _gradient_descent(self,output):\n",
    "        self.weights = self.weights - np.dot((output.T-self._labels.T),self._input).T/713 + self.weights/713\n",
    "        return self.weights\n",
    "    \n",
    "    def _cost_function(self,output):\n",
    "        a = np.dot(self._labels.T,np.log(output))\n",
    "        b = np.dot((1-self._labels).T,np.log(1-output))\n",
    "        return float(-np.sum(a+b)/713)\n",
    "    \n",
    "    def fit(self):\n",
    "        for i in tqdm(range(self.epochs)):\n",
    "            self.output = self._feedforward()\n",
    "            self.weights = self._gradient_descent(self.output)\n",
    "            self.cost_func_graph.append(self._cost_function(self.output))\n",
    "    \n",
    "    def evaluate(self):\n",
    "        out_array = []\n",
    "        correct = 0\n",
    "        labels = np.array(self._labels)\n",
    "        for i in np.array(self.output):\n",
    "            if i>=0.5:\n",
    "                out_array.append(1.0)\n",
    "            else:\n",
    "                out_array.append(0.0)  \n",
    "        for i in range(713):\n",
    "            if out_array[i] == labels[i]:\n",
    "                correct += 1\n",
    "        return (correct/713)*100\n",
    "    \n",
    "    def predict(self,test_features,test_labels):\n",
    "        output = self.activation(np.matmul(test_features,self.weights))\n",
    "        out_array = []\n",
    "        correct = 0\n",
    "        labels = np.array(test_labels)\n",
    "        for i in np.array(output):\n",
    "            if i>=0.5:\n",
    "                out_array.append(1.0)\n",
    "            else:\n",
    "                out_array.append(0.0)  \n",
    "        for i in range(178):\n",
    "            if out_array[i] == labels[i]:\n",
    "                correct += 1\n",
    "        return (correct/178)*100\n",
    "    \n",
    "    def graph(self):\n",
    "        if len(self.cost_func_graph) == 0:\n",
    "            print(\"The data has not been trained yet\")\n",
    "        else:\n",
    "            plt.figure(figsize=(10,6))\n",
    "            plt.plot([i for i in range(self.epochs)],self.cost_func_graph)\n",
    "            plt.xlabel(\"Epochs\")\n",
    "            plt.ylabel(\"Cost_Function\")\n",
    "            plt.grid(True)"
   ]
  },
  {
   "cell_type": "code",
   "execution_count": 12,
   "id": "8394da3f-b28d-425f-be31-32927024ce0a",
   "metadata": {},
   "outputs": [],
   "source": [
    "model = LogisticRegression(train_features,train_labels,100)"
   ]
  },
  {
   "cell_type": "code",
   "execution_count": 13,
   "id": "23bf0b45-2b68-4828-96b8-d9b89f5ff674",
   "metadata": {},
   "outputs": [
    {
     "name": "stderr",
     "output_type": "stream",
     "text": [
      "100%|██████████| 100/100 [00:00<00:00, 672.24it/s]\n"
     ]
    }
   ],
   "source": [
    "model.fit()"
   ]
  },
  {
   "cell_type": "code",
   "execution_count": 14,
   "id": "407a1261-9b78-4167-a0e4-38f909da88ff",
   "metadata": {},
   "outputs": [
    {
     "data": {
      "text/plain": [
       "80.64516129032258"
      ]
     },
     "execution_count": 14,
     "metadata": {},
     "output_type": "execute_result"
    }
   ],
   "source": [
    "model.evaluate()"
   ]
  },
  {
   "cell_type": "code",
   "execution_count": 15,
   "id": "b56d838a-9062-4c20-9ea8-4fc75483528a",
   "metadata": {},
   "outputs": [
    {
     "data": {
      "image/png": "[encoded data removed]",
      "text/plain": [
       "<Figure size 720x432 with 1 Axes>"
      ]
     },
     "metadata": {
      "needs_background": "light"
     },
     "output_type": "display_data"
    }
   ],
   "source": [
    "model.graph()"
   ]
  },
  {
   "cell_type": "markdown",
   "id": "c8abc876-1da1-4890-8804-2ee7ebd90dff",
   "metadata": {},
   "source": [
    "# Testing the data"
   ]
  },
  {
   "cell_type": "code",
   "execution_count": 16,
   "id": "92581222-0885-4cb2-8879-4d4d93225723",
   "metadata": {},
   "outputs": [
    {
     "data": {
      "text/plain": [
       "78.65168539325843"
      ]
     },
     "execution_count": 16,
     "metadata": {},
     "output_type": "execute_result"
    }
   ],
   "source": [
    "model.predict(test_features,test_labels)"
   ]
  }
 ],
 "metadata": {
  "kernelspec": {
   "display_name": "Python 3",
   "language": "python",
   "name": "python3"
  },
  "language_info": {
   "codemirror_mode": {
    "name": "ipython",
    "version": 3
   },
   "file_extension": ".py",
   "mimetype": "text/x-python",
   "name": "python",
   "nbconvert_exporter": "python",
   "pygments_lexer": "ipython3",
   "version": "3.8.8"
  }
 },
 "nbformat": 4,
 "nbformat_minor": 5
}
